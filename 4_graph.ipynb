{
 "cells": [
  {
   "cell_type": "markdown",
   "id": "b02904d5-c471-4e3d-acf5-2e862121decf",
   "metadata": {},
   "source": [
    "# 4. Graphing the HMI Wavefunctions\n",
    "## A. Comparison With LCAO"
   ]
  },
  {
   "cell_type": "markdown",
   "id": "bcc4ca52-e8b9-40a2-87d8-7ec6e29d448f",
   "metadata": {},
   "source": [
    "### Setup code\n",
    "\n",
    "From 3a and 3b, we combine all solution. From now on, D = 2.0.\n",
    "\n",
    "When"
   ]
  },
  {
   "cell_type": "code",
   "execution_count": null,
   "id": "41e523d1-7b21-4612-b091-b29bbd7f5179",
   "metadata": {},
   "outputs": [],
   "source": [
    "import numpy as np\n",
    "from numpy import polynomial as P \n",
    "from scipy.integrate import solve_ivp\n",
    "from scipy.optimize import fsolve\n",
    "\n",
    "import matplotlib as mpl\n",
    "import matplotlib.pyplot as plt\n",
    "plt.rcParams.update({\n",
    "    \"text.usetex\": True,\n",
    "    \"font.family\": \"serif\",\n",
    "    \"figure.dpi\": 300,\n",
    "    \"savefig.dpi\": 300,\n",
    "    \"figure.figsize\": [8.0, 5.0]})\n",
    "\n",
    "try:\n",
    "    # this may look good for retina display users\n",
    "    %config InlineBackend.figure_format = 'retina'\n",
    "except:\n",
    "    pass\n",
    "\n",
    "# lambdas we calculated before\n",
    "def get_lbda(mu, l):\n",
    "    # only for cases l <= 2\n",
    "    # lambdas we calculated before\n",
    "    import os\n",
    "    filename = f\"data_lbda/lbda_{mu}{l}.txt\"\n",
    "    filedir = os.path.join(os.path.abspath(''), filename)\n",
    "    lbda_coef = None\n",
    "    with open(filedir, 'r') as file:\n",
    "        lbda_coef = np.loadtxt(file)\n",
    "    return P.Polynomial(lbda_coef)\n",
    "\n"
   ]
  }
 ],
 "metadata": {
  "kernelspec": {
   "display_name": "Python 3 (ipykernel)",
   "language": "python",
   "name": "python3"
  },
  "language_info": {
   "codemirror_mode": {
    "name": "ipython",
    "version": 3
   },
   "file_extension": ".py",
   "mimetype": "text/x-python",
   "name": "python",
   "nbconvert_exporter": "python",
   "pygments_lexer": "ipython3",
   "version": "3.9.5"
  }
 },
 "nbformat": 4,
 "nbformat_minor": 5
}
