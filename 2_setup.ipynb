{
 "cells": [
  {
   "cell_type": "markdown",
   "id": "f9978726-2eee-4814-a341-32b61bc054e5",
   "metadata": {},
   "source": [
    "# 2. Before Solving the Hydrogen Molecular Ion\n",
    "## A. The Prolate Spheroidal Coordinate System"
   ]
  },
  {
   "cell_type": "markdown",
   "id": "b3181b5a-1ec7-488f-ab32-5eec9e9250ae",
   "metadata": {},
   "source": [
    "### Introduction to the coordinate system\n",
    "The prolate spheroidal coordinates[<sup>1</sup>](#fn1), also called prolate ellipsoidal coordinates, is used to exploit the cylindrical, $D_{\\infty h}$ symmetry of by the hydrogen molecular ion (HMI)."
   ]
  },
  {
   "cell_type": "markdown",
   "id": "c2ba1932-13d8-48e7-b8e0-783ed0c669c2",
   "metadata": {},
   "source": [
    "### Prolate spheroidal coordinates\n",
    "We let $D$ be the internuclear distance, and we set the origin to be its midpoint. The internuclear bonding axis is set as the z-axis, and the x and y-axes are set accordingly. \n",
    "\n",
    "![Prolate Spheroidal Coordinates](img/elliptic_coords.png)[<sup>2</sup>](#fn2)\n",
    "\n",
    "The distance between nuclei A (located at $(0, 0, -\\frac{D}{2})$) is denoted as $r_A$, and the distance between nuclei B (located at $(0, 0, +\\frac{D}{2})$) is denoted as $r_B$. We introduce three coordinates, $\\xi$, $\\eta$, and $\\phi$ (same as the $\\phi$ of the hydrogen atom).\n",
    "\n",
    "$$\\xi = \\frac{r_A+r_B}{D} \\qquad \\qquad \\qquad \\qquad \\qquad \\qquad  \\quad 1 \\leq \\xi$$\n",
    "$$\\eta = \\frac{r_A-r_B}{D} \\qquad \\qquad \\qquad \\qquad  \\quad \\; -1 \\leq \\eta \\leq +1$$\n",
    "$$\\phi = \\tan^{-1}\\left ( \\frac{y}{x} \\right ) \\text{, usually defined to be } 0 \\leq \\phi < 2\\pi$$\n",
    "\n",
    "The surface formed by fixing $\\xi$ and varying the other coordinates is a prolate spheroid (an ellipse spun around the major axis), hence the name. The surface formed by fixing $\\eta$ and varying the other coordinates is a hyperboloid.\n",
    "\n",
    "![Surfaces](img/Prolate_spheroidal_coordinates_surf.png)[<sup>3</sup>](#fn3)"
   ]
  },
  {
   "cell_type": "markdown",
   "id": "60d244ed-4246-48ca-9ea1-378033093370",
   "metadata": {},
   "source": [
    "### Relationship with spherical coordinates\n",
    "Remember how the HMI was described as gradually separating the two protons of the nucleus of $^{2}\\text{He}^{+}$? The coordinate system also reflects this fact. As we approach the united atom limit ($D \\to 0+$), the prolate spheroid (formed by fixing $\\xi$) becomes closer to a sphere. Simultaneously, the hyperboloid (formed by fixing $\\eta$) becomes closer to a one-sided cone (formed by fixing $\\theta$ of spherical coordinates). Thus, in a way, the coordinate system is conserved as we go from one nucleus to two nuclei."
   ]
  },
  {
   "cell_type": "markdown",
   "id": "86344e37-f11e-4a32-a2bd-011155d192c4",
   "metadata": {},
   "source": [
    "### Volume element\n",
    "\n",
    "The volume element is as follows.\n",
    "\n",
    "$$dV = \\frac{D^3}{8}\\left ( \\xi^2 - \\eta^2 \\right )d\\xi \\, d\\eta \\, d\\phi$$"
   ]
  },
  {
   "cell_type": "markdown",
   "id": "c88093a7-0036-456c-91ca-be6691c1c3c6",
   "metadata": {},
   "source": [
    "## B. Disassembling the Schrodinger Equation"
   ]
  },
  {
   "cell_type": "markdown",
   "id": "5963caf2-eaa5-4ce6-9892-b756a0cf4f81",
   "metadata": {},
   "source": [
    "### The Hamiltonian of the HMI\n",
    "\n",
    "With the Born-Oppenheimer approximation, the Hamiltonian has three Coulomb potential terms: the attraction between each nuclei with the electron, as well as the repulsion between the two nuclei.\n",
    "\n",
    "$$ \\hat{H}=-\\frac{1}{2}\\nabla^{2}-\\frac{1}{r_A}-\\frac{1}{r_B}+\\frac{1}{D} $$\n",
    "\n",
    "The internuclear distance $D$ will be fixed when solving the Schrodinger equation, which means that the repulsion term can be considered after obtaining the molecular orbitals.\n",
    "\n",
    "$$ E_{tot} = E_{el} + \\frac{1}{D}, \\, \\text{where} \\, E_{el} \\, \\text{is from} \\, \\hat{H}_{el} = -\\frac{1}{2}\\nabla^{2}-\\frac{1}{r_A}-\\frac{1}{r_B}$$\n",
    "\n",
    "\n",
    "For the sake of convenience, we refer $\\hat{H}_{el}$ as $\\hat{H}$ and $E_{el}$ as $E$, except when the repulsion between nuclei is considered."
   ]
  },
  {
   "cell_type": "markdown",
   "id": "b771b302-162f-4b60-b973-3ee492db303b",
   "metadata": {},
   "source": [
    "### The Laplacian operator in prolate spheroidal coordinates\n",
    "The derivation of the Laplacian is complicated. Luckily, the Laplacian itself is managable, owing to the inherent symmetry of the coordinate system.\n",
    "\n",
    "$$\\nabla^2=\\frac{4}{D^2 \\left ( \\xi^2 - \\eta^2 \\right )}\\left \\{ \\frac{\\partial }{\\partial \\xi} \\left [ \\left ( \\xi^2 -1 \\right ) \\frac{\\partial }{\\partial \\xi} \\right ] + \\frac{\\partial }{\\partial \\eta} \\left [ \\left ( 1 - \\eta^2 \\right )\\frac{\\partial }{\\partial \\eta} \\right ] + \\left [ \\frac{1}{\\xi^2 - 1} + \\frac{1}{1-\\eta^2} \\right ]\\frac{\\partial^2 }{\\partial \\phi^2} \\right \\}$$\n",
    "\n",
    "The relation $\\frac{1}{r_A} + \\frac{1}{r_B}=\\frac{4}{D}\\frac{\\xi}{\\xi^2 - \\eta^2}$ and a newly defined variable $c^2 = \\frac{1}{2}ED^{2}$ is substituted into the time-independent Schrodinger equation, along with the Laplacian shown above.\n",
    "\n",
    "$$\\frac{\\partial }{\\partial \\xi}\\left [ \\left ( \\xi^2 - 1 \\right ) \\frac{\\partial \\psi}{\\partial \\xi} \\right ] + \\frac{\\partial }{\\partial \\eta}\\left [ \\left ( 1 - \\eta^2 \\right ) \\frac{\\partial \\psi}{\\partial \\eta} \\right ] + \\left [ \\frac{1}{\\xi^2 - 1} + \\frac{1}{1 - \\eta^2} \\right ]\\frac{\\partial^2 \\psi}{\\partial \\phi^2} + \\left [ c^2 \\left ( \\xi^2 - \\eta^2 \\right ) + 2D\\xi \\right ]\\psi=0$$\n",
    "\n",
    "Note that $c^2$ is negative for bound states (with $E < 0$), which is our area of interest."
   ]
  },
  {
   "cell_type": "markdown",
   "id": "684aaba2-49c8-49df-ac38-06b346097577",
   "metadata": {},
   "source": [
    "### Separation of variables\n",
    "As with the hydrogen atom, we naively expect the wavefunction of HMI to be separable into functions of $\\xi,$ $\\eta,$ and $\\psi$.\n",
    "\n",
    "$$\\psi(\\xi, \\eta, \\phi) = R(\\xi)\\,S(\\eta)\\,\\Phi(\\phi)$$\n",
    "\n",
    "Note that from this point on, we deal with *unnormalized* radial/angular functions and wavefunctions as the normalization step can happen at the very end, either analytically or numerically."
   ]
  },
  {
   "cell_type": "markdown",
   "id": "a22a488b-0934-4a06-85a0-9544f36875ca",
   "metadata": {},
   "source": [
    "#### Regarding $\\Phi_{m}(\\phi)$\n",
    "We can anticipate that the $\\phi$-dependent part of the HMI will be the least different from the united atom limit ($^{2}\\text{He}^{+}$) due to their shared cylindrical symmetry. In fact, as the internuclear distance is changed, the z-component of the angular momentum is completely unaffected. Thus, the $\\psi$-dependent part of the HMI is identical to that of the hydrogen atom, $ \\Phi_{m}(\\phi)=e^{im\\phi} $.\n",
    "\n",
    "Even without the intuition above, the $psi$-dependent part can be obtained from separation of variables. By substituting $\\psi$ with $R(\\xi)\\,S(\\eta)\\,\\Phi(\\phi)$ and then dividing through by $R(\\xi)\\,S(\\eta)\\,\\Phi(\\phi)$, the variable $\\phi$ can be separated from the variables $\\xi$ and $\\eta$.\n",
    "\n",
    "$$\\left [ \\frac{\\xi^2 - \\eta^2}{\\left ( \\xi^2 - 1 \\right )\\left ( 1 - \\eta^2 \\right )} \\right ]\\left \\{ \\frac{1}{R} \\frac{d }{d \\xi}\\left [ \\left ( \\xi^2 - 1 \\right ) \\frac{d R}{d \\xi} \\right ] + \\frac{1}{S} \\frac{d }{d \\eta}\\left [ \\left ( 1 - \\eta^2 \\right ) \\frac{d S}{d \\eta} \\right ] +\\left [ c^2 \\left ( \\xi^2 - \\eta^2 \\right ) + 2D\\xi \\right ] \\right \\}$$\n",
    " \n",
    "$$= -\\frac{1}{\\Phi} \\frac{d^2 \\Phi}{d \\phi^2} = m^2$$\n",
    " \n",
    "We set both sides of the equality as $m^2$, which leads to $ \\Phi_{m}(\\phi)=e^{im\\phi} $.\n",
    "\n",
    "As of now, the wavefunction is complex-valued due to $\\Phi(\\phi)$. Similar to how real-valued atomic orbitals were formed, real-valued molecular orbitals are formed using combinations of $\\Phi(\\phi)$ of $m$ and $-m$."
   ]
  },
  {
   "cell_type": "markdown",
   "id": "a6c1c442-899e-4d8e-8936-0607efd6c1a4",
   "metadata": {},
   "source": [
    "#### Symmetry about the internuclear axis\n",
    "The $\\phi$-dependent part alone is related to one important symmetry of molecular orbitals. Before we proceed, let us define $\\mu = \\left | m \\right |$, which describes the rotational symmetry about the internuclear axis. \n",
    "\n",
    "For $\\mu = 0$, the wavefunction does not change when rotated about the internuclear axis. There are no angular nodes containing the internuclear axis. Wavefunctions with this rotational symmetry are denoted as a $\\sigma$ orbital.\n",
    "\n",
    "For $\\mu = 1$, the sign of the wavefunction is reversed when rotated by $\\pi$. A planar node that contains the internuclear axis is its only angular node. Wavefunctions with this rotational symmetry are denoted as a $\\pi$ orbital.\n",
    "\n",
    "For $\\mu = 2$ and above, similar comments can be made. These are organized in the table below.\n",
    "\n",
    "| $\\mu$ | symmetry | notation                        | Number of angular nodes<br>that contain<br>the internuclear axis |\n",
    "|:-----:|:--------:|:--------------------------------|:-----------------------------------------------------:|\n",
    "| 0     | $\\sigma$ | symmetric about the internuclear axis                  | 0 |\n",
    "| 1     | $\\pi$    | sign reversed when rotated by $\\pi$ ($C_2$ rotation)   | 1 |\n",
    "| 2     | $\\delta$ | sign reversed when rotated by $\\pi/2$ ($C_4$ rotation) | 2 |\n",
    "| 3     | $\\phi$   | sign reversed when rotated by $\\pi/3$ ($C_6$ rotation) | 3 |\n",
    "| 4     | $\\gamma$ | sign reversed when rotated by $\\pi/4$ ($C_8$ rotation) | 4 |\n",
    "| $\\mu$ | Greek letters<br>after $\\gamma$ | sign reversed when rotated by $\\pi/\\mu$ ($C_\\left ( 2\\mu \\right )$ rotation) | $\\mu$ |\n",
    "\n",
    "Note: notice how the Greek letter notation closely follows the atomic orbital notation (s, p, d, f, g, etc.)."
   ]
  },
  {
   "cell_type": "markdown",
   "id": "dceea52d-c8dc-40e8-bbb7-fe9b22a26371",
   "metadata": {
    "tags": []
   },
   "source": [
    "#### Regarding $R(\\xi)$ and $S(\\eta)$\n",
    "The equation above can further be completely separated into the $\\xi$-dependent terms and the $\\eta$-dependent terms.\n",
    "\n",
    "$$\\left \\{ \\frac{1}{R} \\frac{d }{d \\xi}\\left [ \\left ( \\xi^2 - 1 \\right ) \\frac{d R}{d \\xi} \\right ] -\\frac{m^2}{\\xi^2 - 1} + 2D\\xi + c^2 \\xi^2 \\right \\} = -\\left \\{ \\frac{1}{S} \\frac{d }{d \\eta}\\left [ \\left ( 1 - \\eta^2 \\right ) \\frac{d S}{d \\eta} \\right ] -\\frac{m^2}{1- \\eta^2} -c^2\\eta^2  \\right \\} = \\Lambda $$\n",
    "We set both sides of the equality as $\\Lambda$. In addition, notice that the only $m$-dependent terms are $m^2$ terms. Therefore, each electronic level with $m \\neq 0$ is doubly degenerate. As another consequence, all $m^2$ can be replaced with $\\mu^2$. From now on, we will use $\\mu$ exclusively.\n",
    "\n",
    "Two differential equations need to be solved in order to obtain $R(\\xi)$ and $S(\\eta)$\n",
    "\n",
    "For $R(\\xi)$:\n",
    "\n",
    "$$ \\frac{d }{d \\xi}\\left [ \\left ( \\xi^2 - 1 \\right ) \\frac{d R}{d \\xi} \\right ] + \\left [ 2D\\xi + c^2 \\xi^2 -\\frac{\\mu^2}{\\xi^2 - 1} - \\Lambda \\right ]R = 0$$\n",
    "\n",
    "For $S(\\eta)$:\n",
    "\n",
    "$$\\frac{d }{d \\eta}\\left [ \\left ( 1 - \\eta^2 \\right ) \\frac{d S}{d \\eta} \\right ] + \\left [ \\Lambda -\\frac{\\mu^2}{1- \\eta^2} -c^2\\eta^2 \\right ]S = 0$$"
   ]
  },
  {
   "cell_type": "markdown",
   "id": "1ee75e4b-a305-46f3-8e36-e5c4a08d756b",
   "metadata": {},
   "source": [
    "#### $R(\\xi)$ and the united atom limit\n",
    "\n",
    "As the HMI approaches the united atom limit, $R(\\xi)$ approaches its atomic orbital equivalent $R(r)$. To show this property, let us define the new coordinate $\\rho$ such that it approaches $r$, the distance from the origin, as $D \\to 0+$.\n",
    "\n",
    "$$\\rho = \\frac{D\\xi}{2} = \\frac{r_A + r_B}{2}$$\n",
    "\n",
    "Given $\\frac{d \\rho}{d \\xi} = \\frac{D}{2}$, the differential equation of $R(\\xi)$ is as follows.\n",
    "\n",
    "$$\\frac{d}{d\\rho}\\left [ \\left ( \\rho^2 - \\frac{D^2}{4} \\right ) \\frac{dR}{d\\rho} \\right ] + \\left [ 4\\rho + 2E\\rho^2 -\\left ( \\frac{D^2}{4\\rho^2 -D^2} \\mu^2 \\right ) - \\Lambda \\right ]R(\\rho) = 0$$\n",
    "\n",
    "As $D \\to 0+$, dividing the entire equation by $-2\\rho^2$ yields\n",
    "\n",
    "$$-\\frac{1}{2\\rho^2} \\frac{d}{d\\rho}\\left [ \\rho^2 \\frac{dR}{d\\rho} \\right ] + \\left [ \\frac{\\Lambda}{2\\rho^2} - \\frac{2}{\\rho} - E \\right ]R(\\rho) = 0$$\n",
    "\n",
    "which is the same differential equation for the radial equation of a hydrogen-like orbital of $\\text{He}^+$, where $\\Lambda = l(l+1)$. A similar treatment of $S(\\eta)$ produces the same results."
   ]
  },
  {
   "cell_type": "markdown",
   "id": "940c1945-01c3-468e-917a-df8ec4572906",
   "metadata": {},
   "source": [
    "## Footnotes\n",
    "\n",
    "<span id=\"fn1\">1. See the *Alternative definition* section of this [Wikipedia article](https://en.wikipedia.org/wiki/Prolate_spheroidal_coordinates#Alternative_definition) for more information. Note that the scale factor $a$ in this article is $D/2$ in this notebook.</span>\n",
    "\n",
    "<span id=\"fn2\">2. Image from Grivet, 2002.</span>\n",
    "\n",
    "<span id=\"fn3\">3. Image from [WillowW](https://commons.wikimedia.org/wiki/File:Prolate_spheroidal_coordinates.png).</span>"
   ]
  }
 ],
 "metadata": {
  "kernelspec": {
   "display_name": "Python 3 (ipykernel)",
   "language": "python",
   "name": "python3"
  },
  "language_info": {
   "codemirror_mode": {
    "name": "ipython",
    "version": 3
   },
   "file_extension": ".py",
   "mimetype": "text/x-python",
   "name": "python",
   "nbconvert_exporter": "python",
   "pygments_lexer": "ipython3",
   "version": "3.9.5"
  }
 },
 "nbformat": 4,
 "nbformat_minor": 5
}
