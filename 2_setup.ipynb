{
 "cells": [
  {
   "cell_type": "markdown",
   "id": "f9978726-2eee-4814-a341-32b61bc054e5",
   "metadata": {},
   "source": [
    "# 2. Before Solving the Hydrogen Molecular Ion\n",
    "## A. The Prolate Spheroidal Coordinate System"
   ]
  },
  {
   "cell_type": "markdown",
   "id": "b3181b5a-1ec7-488f-ab32-5eec9e9250ae",
   "metadata": {},
   "source": [
    "### Introduction to the coordinate system\n",
    "The prolate spheroidal coordinates, also called prolate ellipsoidal coordinates, is used to exploit the cylindrical symmetry presented by the hydrogen molecular ion (HMI) (in more technical group theory terms, the HMI exhibits? $D_{\\infty h}$)"
   ]
  },
  {
   "cell_type": "markdown",
   "id": "c2ba1932-13d8-48e7-b8e0-783ed0c669c2",
   "metadata": {},
   "source": [
    "### Prolate spheroidal coordinates\n",
    "We let $D$ be the internuclear distance, and we set the origin to be its midpoint. The internuclear bonding axis is set as the z-axis, and the x and y-axes are set accordingly. \n",
    "\n",
    "IMAGE GOES HERE\n",
    "\n",
    "The distance between nuclei A (located at $(0, 0, -\\frac{D}{2})$) is denoted as $r_A$, and the distance between nuclei B (located at $(0, 0, +\\frac{D}{2})$) is denoted as $r_B$. We introduce three coordinates, $\\xi$, $\\nu$, and $\\phi$ (same as the $\\phi$ of the hydrogen atom).\n",
    "\n",
    "$$\\xi = \\frac{r_A+r_B}{D} \\qquad \\qquad \\qquad \\; 1 \\leq \\xi$$\n",
    "$$\\eta = \\frac{r_A-r_B}{D} \\qquad \\quad \\; -1 \\leq \\eta \\leq +1$$\n",
    "$$\\phi = \\tan^{-1}\\left ( \\frac{y}{x} \\right ) \\text{ such that } 0 \\leq \\phi < 2\\pi$$\n",
    "\n",
    "The surface formed by fixing $\\xi$ and varying the other coordinates is a prolate spheroid (an ellipse spun around the major axis), hence the name.\n",
    "\n",
    "IMAGE GOES HERE\n",
    "\n",
    "The surface formed by fixing $\\eta$ and varying the other coordinates is a hyperboloid.\n",
    "\n",
    "IMAGE GOES HERE"
   ]
  },
  {
   "cell_type": "markdown",
   "id": "60d244ed-4246-48ca-9ea1-378033093370",
   "metadata": {},
   "source": [
    "### Relationship with spherical coordinates\n",
    "Remember how the HMI was described as gradually separating the two protons of the nucleus of $^{2}\\text{He}^{+}$? The coordinate system also reflects this fact. As $D \\to 0$, the prolate spheroid formed by fixing $\\xi$ becomes closer to a sphere. Also, as $D \\to 0$, the hyperboloid formed by fixing $\\eta$ becomes closer to a one-sided cone formed by fixing $\\theta$. Thus, in a way, the coordinate system is conserved as we go from one nucleus to two nuclei."
   ]
  },
  {
   "cell_type": "markdown",
   "id": "c88093a7-0036-456c-91ca-be6691c1c3c6",
   "metadata": {},
   "source": [
    "## B. Disassembling the Schrodinger Equation"
   ]
  },
  {
   "cell_type": "markdown",
   "id": "b771b302-162f-4b60-b973-3ee492db303b",
   "metadata": {},
   "source": [
    "### The Laplacian operator in prolate spheroidal coordinates\n",
    "Derivation of the Laplacian is complicated. However, the Laplacian itself is not too complicated, owing to the inherent symmetry we exploited when we set up the coordinate system.\n",
    "\n",
    "$$\\nabla^2=\\frac{4}{D^2 \\left ( \\xi^2 - \\eta^2 \\right )}\\left \\{ \\frac{\\partial }{\\partial \\xi} \\left [ \\left ( \\xi^2 -1 \\right ) \\frac{\\partial }{\\partial \\xi} \\right ] + \\frac{\\partial }{\\partial \\eta} \\left [ \\left ( 1 - \\eta^2 \\right )\\frac{\\partial }{\\partial \\eta} \\right ] + \\left [ \\frac{1}{\\xi^2 - 1} + \\frac{1}{1-\\eta^2} \\right ]\\frac{\\partial^2 }{\\partial \\phi^2} \\right \\}$$\n",
    "\n",
    "The relation $\\frac{1}{r_A} + \\frac{1}{r_B}=\\frac{4}{D}\\frac{\\xi}{\\xi^2 - \\eta^2}$ and a newly defined variable $c^2 = \\frac{1}{4}ED^{2}$ is substituted into the time-independent Schrodinger equation, along with the Laplacian shown above.\n",
    "\n",
    "$$\\frac{\\partial }{\\partial \\xi}\\left [ \\left ( \\xi^2 - 1 \\right ) \\frac{\\partial \\psi}{\\partial \\xi} \\right ] + \\frac{\\partial }{\\partial \\eta}\\left [ \\left ( 1 - \\eta^2 \\right ) \\frac{\\partial \\psi}{\\partial \\eta} \\right ] + \\left [ \\frac{1}{\\xi^2 - 1} + \\frac{1}{1 - \\eta^2} \\right ]\\frac{\\partial^2 \\psi}{\\partial \\phi^2} + \\left [ c^2 \\left ( \\xi^2 - \\eta^2 \\right ) + 2D\\xi \\right ]\\psi=0$$\n",
    "\n",
    "Note that $c^2$ is negative for bound states (with $E < 0$), which is our area of interest."
   ]
  },
  {
   "cell_type": "markdown",
   "id": "684aaba2-49c8-49df-ac38-06b346097577",
   "metadata": {},
   "source": [
    "### Separation of variables\n",
    "As with the hydrogen atom, we naively expect the wavefunction of HMI to be separable into functions of $\\xi$, $\\eta$, and $\\psi$.\n",
    "\n",
    "$$\\psi(\\xi, \\eta, \\phi) = R(\\xi)\\,S(\\eta)\\,\\Phi(\\phi)$$\n",
    "\n",
    "Note that from this point on, we deal with *unnormalized* radial/angular functions and wavefunctions as the normalization step can happen at the very end, either analytically or numerically."
   ]
  },
  {
   "cell_type": "markdown",
   "id": "a22a488b-0934-4a06-85a0-9544f36875ca",
   "metadata": {},
   "source": [
    "#### $\\Psi_{m}(\\psi)$\n",
    "We can anticipate that the $psi$-dependent part of the HMI will be the least different from its $^{2}\\text{He}^{+}$ counterpart due to their shared cylindrical symmetry. In fact, as the internuclear distance is changed, the z-component of the angular momentum is completely unaffected. Thus, the $psi$-dependent part of the HMI is identical to that of the hydrogen atom, $ \\Phi_{m}(\\phi)=e^{im\\phi} $.\n",
    "\n",
    "Even without the intuition above, the $psi$-dependent part can be obtained from separation of variables. By substituting $\\psi$ with $R(\\xi)\\,S(\\eta)\\,\\Phi(\\phi)$ and then dividing through by $R(\\xi)\\,S(\\eta)\\,\\Phi(\\phi)$, the variable $\\phi$ can be separated from the variables $\\xi$ and $\\eta$.\n",
    "\n",
    "$$\\left [ \\frac{\\xi^2 - \\eta^2}{\\left ( \\xi^2 - 1 \\right )\\left ( 1 - \\eta^2 \\right )} \\right ]\\left \\{ \n",
    " \\frac{1}{R} \\frac{d }{d \\xi}\\left [ \\left ( \\xi^2 - 1 \\right ) \\frac{d R}{d \\xi} \\right ] + \\frac{1}{S} \\frac{d }{d \\eta}\\left [ \\left ( 1 - \\eta^2 \\right ) \\frac{d \\psi}{d \\eta} \\right ] +\\left [ c^2 \\left ( \\xi^2 - \\eta^2 \\right ) + 2D\\xi \\right ] \\right \\} = -\\frac{1}{\\Phi} \\frac{d^2 \\Phi}{d \\phi^2} = m^2$$\n",
    " \n",
    "We set both sides of the equality as $m^2$, which leads to $ \\Phi_{m}(\\phi)=e^{im\\phi} $."
   ]
  },
  {
   "cell_type": "markdown",
   "id": "dceea52d-c8dc-40e8-bbb7-fe9b22a26371",
   "metadata": {
    "tags": []
   },
   "source": [
    "#### $R(\\xi)$ and $S(\\eta)$\n",
    "The equation above can further be completely separated into the $\\xi$-dependent terms and the $\\eta$-dependent terms.\n",
    "\n",
    "$$\\left \\{ \\frac{1}{R} \\frac{d }{d \\xi}\\left [ \\left ( \\xi^2 - 1 \\right ) \\frac{d R}{d \\xi} \\right ] -\\frac{m^2}{\\xi^2 - 1} + 2D\\xi + c^2 \\xi^2 \\right \\} = -\\left \\{ \\frac{1}{S} \\frac{d }{d \\eta}\\left [ \\left ( 1 - \\eta^2 \\right ) \\frac{d \\psi}{d \\eta} \\right ] -\\frac{m^2}{1- \\eta^2} -c^2\\eta^2  \\right \\} = \\Lambda $$\n",
    "\n",
    "We set both sides of the equality as $\\Lambda$.\n",
    "\n",
    "Two differential equations needs to be solved in order to obtain $R(\\xi)$ and $S(\\eta)$\n",
    "\n",
    "For $R(\\xi)$:\n",
    "\n",
    "$$ \\frac{d }{d \\xi}\\left [ \\left ( \\xi^2 - 1 \\right ) \\frac{d R}{d \\xi} \\right ] + \\left [ 2D\\xi + c^2 \\xi^2 -\\frac{m^2}{\\xi^2 - 1} - \\Lambda \\right ]R = 0$$\n",
    "\n",
    "For $S(\\eta)$:\n",
    "\n",
    "$$\\frac{d }{d \\eta}\\left [ \\left ( 1 - \\eta^2 \\right ) \\frac{d S}{d \\eta} \\right ] + \\left [ \\Lambda -\\frac{m^2}{1- \\eta^2} -c^2\\eta^2 \\right ]S = 0$$"
   ]
  },
  {
   "cell_type": "markdown",
   "id": "1ee75e4b-a305-46f3-8e36-e5c4a08d756b",
   "metadata": {},
   "source": [
    "##### The limiting case of $D \\to 0$\n",
    "\n",
    "With the appropriate change of variables and the appropriate limits taken, the differential equations for the wavefunction of the hydrogen atom can be obtained. (TODO)"
   ]
  }
 ],
 "metadata": {
  "kernelspec": {
   "display_name": "Python 3 (ipykernel)",
   "language": "python",
   "name": "python3"
  },
  "language_info": {
   "codemirror_mode": {
    "name": "ipython",
    "version": 3
   },
   "file_extension": ".py",
   "mimetype": "text/x-python",
   "name": "python",
   "nbconvert_exporter": "python",
   "pygments_lexer": "ipython3",
   "version": "3.9.5"
  }
 },
 "nbformat": 4,
 "nbformat_minor": 5
}
