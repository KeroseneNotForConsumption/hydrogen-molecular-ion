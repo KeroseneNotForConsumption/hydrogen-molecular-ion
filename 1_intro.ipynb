{
 "cells": [
  {
   "cell_type": "markdown",
   "id": "629b4743-11d2-485e-a3ef-cf36265be8df",
   "metadata": {
    "tags": []
   },
   "source": [
    "# 1. Introduction and Foundational Knowledge\n",
    "## A. Introduction"
   ]
  },
  {
   "cell_type": "markdown",
   "id": "06a9f677-4031-440d-8903-cd4330c03aad",
   "metadata": {
    "tags": []
   },
   "source": [
    "### Hydrogen molecular ion\n",
    "\n",
    "This Jupyter Notebook is a guide through obtaining the molecular orbitals of the quantum system of $\\text{H}_{2}^{+}$ by directly solving the Schrödinger equation, using Python (with modules such as NumPy and SciPy). This work is derived from the following resources.\n",
    "\n",
    "- Grivet, J.-P. The Hydrogen Molecular Ion Revisited. Journal of Chemical Education, 2002, 79, 127. https://doi.org/10.1021/ed079p127.\n",
    "- Johnson, J. L. Visualization of Wavefunctions of the Ionized Hydrogen Molecule. Journal of Chemical Education, 2004, 81, 1535. https://doi.org/10.1021/ed081p1535.1.\n",
    "\n",
    "The sources should help when viewed alongside this Jupyter Notebook. The notations used are that of Grivet[<sup>1</sup>](#fn1).\n",
    "\n",
    "Prior knowledge of introductory quantum mechanics — particularly about the hydrogen atomic orbitals — is required. The following textbooks will be helpful with this regard.\n",
    "\n",
    "For an in-depth review on quantum chemistry:\n",
    "\n",
    "- *Quantum Chemistry* by Ira N. Levine\n",
    "\n",
    "For an approachable yet complete review on quantum chemistry:\n",
    "\n",
    "- *Physical Chemistry: A Molecular Approach* by McQuarrie and Simon\n",
    "\n",
    "For an introduction to atomic orbitals and molecular orbitals:\n",
    "\n",
    "- *Principles of Modern Chemistry* by David W. Oxtoby\n",
    "\n",
    "As for the required background on mathematics, an elementary understanding of differential equations will suffice."
   ]
  },
  {
   "cell_type": "markdown",
   "id": "4344f71c-b65d-4502-8967-dba08872a848",
   "metadata": {},
   "source": [
    "### Python information\n",
    "The following modules are *required*.\n",
    "\n",
    "- NumPy\n",
    "- SciPy for solving differential equations\n",
    "- Matplotlib for 2D graphing\n",
    "\n",
    "Other modules used are\n",
    "\n",
    "- Plotly for 3D graphing (required for viewing 3D plots, images of which are already generated)\n",
    "- scikit-image (for generating 3D meshes, which are already generated)"
   ]
  },
  {
   "cell_type": "markdown",
   "id": "77cc8619-4551-4a25-aaa0-609137899092",
   "metadata": {},
   "source": [
    "## B. Background Quantum Mechanics"
   ]
  },
  {
   "cell_type": "markdown",
   "id": "a45f08f7-54af-49e2-b1cd-e72639a69e55",
   "metadata": {
    "jp-MarkdownHeadingCollapsed": true,
    "tags": []
   },
   "source": [
    "### Atomic orbitals\n",
    "\n",
    "The process of obtaining molecular orbitals of the hydrogen molecular ion is similar to process of obtaining atomic orbitals of hydrogen. Therefore, before we begin with molecular orbitals, here is a quick refresher on atomic orbitals.\n",
    "\n",
    "The wavefunction of the one-electron system of the hydrogen atom can be solved exactly (if only the coulombic attraction is accounted in the Hamiltonian). For the rest of the notebook, the Born-Oppenheimer approximation is used (in other words, the proton is assumed to be fixed at the origin for convenience).\n",
    "\n",
    "$$ \\hat{H}=-\\frac{\\hbar}{2m_{e}}\\nabla^{2}-\\frac{e^{2}}{4\\pi\\varepsilon_{0}r} $$\n",
    "\n",
    "A new system of units, called Hartree atomic units, is introduced to simplify calculations.\n",
    "\n",
    "| Property     | Atomic unit                   | Notes    |\n",
    "|--------------|-------------------------------|---------------------|\n",
    "| mass         | $m_e$, the mass of an electron| equal to $9.11 \\times 10^{-31} \\, \\text{kg}$ |\n",
    "| charge       | $e$, the elementary charge    | equal to $1.60 \\times 10^{-19} \\, \\text{C}$  |\n",
    "| angular momentum or action | $\\hbar$, the Planck constant over $2\\pi$ |     |\n",
    "| distance     | $a_0$, Bohr radius            | equal to $5.29 \\times 10^{-11} \\, \\text{m}$  |\n",
    "| energy       | $E_h=\\frac{m_{e}e^{4}}{16\\pi^{2}\\varepsilon_{0}^{2}\\hbar^{2}}$, the Hartree | equal to $27.2 \\; \\text{eV}$ |\n",
    "| permittivity | $4\\pi\\varepsilon_{0}$         |    |\n",
    "\n",
    "Using the new system of units, the Hamiltonian can be further simplified.\n",
    "\n",
    "$$ \\hat{H}=-\\frac{1}{2}\\nabla^{2}-\\frac{1}{r} $$\n",
    "\n",
    "To exploit the spherical symmetry of the Hamiltonian, we use spherical coordinates $\\left ( r, \\theta, \\phi \\right )$ as shown below.\n",
    "\n",
    "![Spherical Coordinates](img/spherical_coords.png)\n",
    "\n",
    "Note that the bound for each of the coordinates are $0 \\leq r\\, ,\\; 0 \\leq \\theta \\leq \\pi\\, ,\\; 0 \\leq \\phi < 2\\pi$.\n",
    "\n",
    "The Laplacian operator $\\nabla^{2}$ in spherical coordinates is\n",
    "\n",
    "$$\\nabla^{2}=\\frac{1}{r^2}\\frac{\\partial }{\\partial r}\\left ( r^{2}\\frac{\\partial }{\\partial r} \\right )+\\frac{1}{r^{2}\\sin \\theta}\\frac{\\partial }{\\partial \\theta}\\left ( \\sin \\theta \\frac{\\partial }{\\partial \\theta} \\right ) + \\frac{1}{r^{2}\\sin^{2}\\theta}\\frac{\\partial^2 }{\\partial \\phi^2}$$\n",
    "\n",
    "With this Hamiltonian and the boundary condition $ \\psi \\to 0 \\text{ as }r \\to \\infty $, the time-independent Schrödinger equation $\\hat{H}\\psi = E\\psi$ can be solved through separation of variables. This amounts to solving three differential equations with three different boundary conditons, each with respect to $\\phi, \\theta, r$. The final wave function is formed by combining the three solutions.\n",
    "\n",
    "$$ \\psi(r, \\theta, \\phi) = R(r)\\,  Y(\\theta, \\phi) = R(r) \\, \\Theta(\\theta)\\, \\Phi(\\phi) $$\n",
    "\n",
    "Note that from this point on, we deal with *unnormalized* radial/angular functions and wavefunctions as the normalization step can happen at the very end, either analytically or numerically."
   ]
  },
  {
   "cell_type": "markdown",
   "id": "aac5672a-18a7-43e1-acc4-37e97952e028",
   "metadata": {
    "tags": []
   },
   "source": [
    "### The radial equation and the angular equations\n",
    "With the Laplacian operator $\\nabla^{2}$ in spherical coordinates and $\\hat{H}\\psi = E\\psi$, the following equations are derived.\n",
    "\n",
    "$$-\\frac{1}{2}\\left [\\frac{1}{r^2}\\frac{\\partial }{\\partial r}\\left ( r^{2}\\frac{\\partial \\psi}{\\partial r} \\right )+\\frac{1}{r^{2}\\sin \\theta}\\frac{\\partial }{\\partial \\theta}\\left ( \\sin \\theta \\frac{\\partial \\psi}{\\partial \\theta} \\right ) + \\frac{1}{r^{2}\\sin^{2}\\theta}\\frac{\\partial^2 \\psi }{\\partial \\phi^2}  \\right ] -\\frac{1}{r}\\,  \\psi(r, \\theta, \\phi)=E\\, \\psi(r, \\theta, \\phi)$$\n",
    "\n",
    "We multiply through by $2r^2$, substitute $\\psi$ with $R(r)\\,  Y(\\theta, \\phi)$, and at last, divide by $R(r)\\,  Y(\\theta, \\phi)$.\n",
    "\n",
    "$$\\frac{1}{R(r)}\\left [  \\frac{d }{d r} \\left  (r^{2}\\frac{d R}{d r}  \\right ) + 2r^{2} \\left ( \\frac{1}{r} + E \\right ) R(r) \\right ]  = - \\frac{1}{Y(\\theta, \\phi)} \\left [ \\frac{1}{\\sin \\theta} \\frac{\\partial }{\\partial \\theta}\\left ( \\sin \\theta \\frac{\\partial Y}{\\partial \\theta} \\right ) + \\frac{1}{\\sin^{2}\\theta } \\frac{\\partial^2 Y}{\\partial \\psi^2} \\right ] = \\beta$$\n",
    "\n",
    "The left side of the equality depends only on $r$, while the right side of the equality depends only on $\\theta$ and $\\phi$. Thus, both sides must be independent from all variables: a constant, with respect to either $r, \\theta$, or $\\phi$. This new constant is denoted as $\\beta$."
   ]
  },
  {
   "cell_type": "markdown",
   "id": "3e31c287-8857-40d4-b323-f96cff108caa",
   "metadata": {
    "tags": []
   },
   "source": [
    "#### Angular equations\n",
    "\n",
    "We focus our attention to the right side of the equality. Multiplying the equation through by $\\sin^{2} \\theta$ and rearranging it yields\n",
    "\n",
    "$$\\sin \\theta \\frac{\\partial }{\\partial \\theta}\\left ( \\sin \\theta \\frac{\\partial Y}{\\partial \\theta} \\right ) + \\frac{\\partial^2 Y}{\\partial \\phi^2} + \\left (\\beta \\sin^{2}\\theta  \\right ) Y = 0$$\n",
    "\n",
    "Separating the $\\theta$ dependent terms and $\\phi$ dependent terms is now possible. Substituting $Y(\\theta, \\phi)$ with $\\Theta(\\theta) \\, \\Phi(\\phi)$ and then multiplying the equation by $\\Theta(\\theta) \\, \\Phi(\\phi)$ results in the following.\n",
    "\n",
    "$$\\frac{\\sin \\theta}{\\Theta (\\theta)}\\frac{d }{d \\theta}\\left ( \\sin \\theta \\frac{d \\Theta }{d \\theta} \\right ) + \\beta \\sin^{2}\\theta = -\\frac{1}{\\Phi (\\phi)}\\frac{d^2 \\Phi }{d \\phi^2} = m^2$$\n",
    "\n",
    "The left side of the equality depends only on $\\theta$, while the right side of the equality depends only on $\\theta$ and $\\phi$. Again, both sides can be expressed as a constant with respect to either $\\theta$ and $\\phi$, which shall be denoted as $m^2$.\n",
    "\n",
    "With the boundary condition $\\Phi(0) = \\Phi(2\\pi)$, the equality $-\\frac{1}{\\Phi (\\phi)}\\frac{d^2 \\Phi }{d \\phi^2} = m^2$ yields the following yet-to-be-normalized solution.\n",
    "\n",
    "$$ \\Phi_{m}(\\phi)=e^{im\\phi}\\qquad m=0 ,\\; \\pm1,\\; \\pm 2,\\; \\cdots  $$\n",
    "\n",
    "The equation $\\frac{\\sin \\theta}{\\Theta (\\theta)}\\frac{d }{d \\theta}\\left ( \\sin \\theta \\frac{d \\Theta }{d \\theta} \\right ) + \\beta \\sin^{2}\\theta = m^2$ is a bit harder to solve, but solving it yields the associated Legendre polynomial. Consult your physical/quantum chemistry textbook if necessary[<sup>2</sup>](#fn2). \n",
    "\n",
    "The solution for $\\Theta (\\theta)$ is as follows.\n",
    "\n",
    "$$\\Theta (\\theta) = P_{l}^{\\left | m \\right |}(\\cos \\theta) \\text{ where } P_{l}^{\\left | m \\right |} \\text{ is the associated Legendre polynomial}$$\n",
    "\n",
    "Note that during the solving process, it is revealed that $\\beta = l(l+1) \\geq m^2 $ (thus $\\left | m  \\right | \\leq l$)."
   ]
  },
  {
   "cell_type": "markdown",
   "id": "ab1c726a-fec5-4f22-b872-f3ada2454bef",
   "metadata": {
    "jp-MarkdownHeadingCollapsed": true,
    "tags": []
   },
   "source": [
    "#### Radial equations\n",
    "\n",
    "By substituting $\\beta$ with $l(l+1)$ in one of our previous equations and rearranging some terms, we are left with the following equation.\n",
    "\n",
    "$$-\\frac{1}{2r^2}\\frac{d }{d r} \\left  (r^{2}\\frac{d R}{d r}  \\right ) + \\left [ \\frac{l(l+1)}{2r^{2}} -\\frac{1}{r} -E  \\right ]R(r) = 0$$\n",
    "\n",
    "The process of solving the equation above will not be treated in detail in this notebook. Nevertheless, during the such process, the quantization of energy $E$ is revealed, with each positive integer $n = 1, 2, 3, \\cdots$ corresponding to a particular energy level.\n",
    "\n",
    "$$E_n = -\\frac{1}{2}\\frac{1}{n^2} \\text{ in atomic units}$$\n",
    "\n",
    "It is also shown that $n$, the principle quantum number, and $l$ the angular momentum quantum number must satisfy the following relationship.\n",
    "\n",
    "$$0 \\leq l \\leq n - 1$$\n",
    "\n",
    "Finally, the radial equation is given as an expression containing the associated Laguerre polynomial.\n",
    "\n",
    "$$R_{nl}(r)=r^{l}e^{-r/n}\\left [L_{n+l}^{2l+1}\\left (\\frac{2r}{n}  \\right )  \\right ] \\text{ where } L_{n+l}^{2l+1}(x) \\text{ is the associated Laguerre polynomial}$$"
   ]
  },
  {
   "cell_type": "markdown",
   "id": "98612f9b-18c3-4b54-9aa5-ad19ce476191",
   "metadata": {
    "tags": []
   },
   "source": [
    "### Real wavefunctions\n",
    "\n",
    "Although the full wavefunction solutions are hereby obtained, there is one step left to obtain the familiar atomic orbitals used by some physicists and most chemists. Because the $\\phi$-dependent term $\\Phi_{m}(\\phi)=e^{im\\phi}$ is complex-valued, the wavefunctions are also complex-valued (for $m \\neq 0$). These can be mitigated by using **combinations** of $\\Phi_{m}(\\phi)$ in the place of  $\\Phi_{m}(\\phi)$.\n",
    "\n",
    "Note: all $\\Phi(\\phi)$ are not normalized.\n",
    "\n",
    "For the case of $l=1$ $(m = -1,\\, 0,\\, 1)$\n",
    "\n",
    "$\n",
    "\\begin{align}\n",
    "\\quad \\Phi_{z}(\\phi) = \\Phi_{0}(\\phi) = e^{0i\\phi} = 1\n",
    "\\end{align}\n",
    "$\n",
    "\n",
    "$\n",
    "\\begin{align}\n",
    "\\quad \\Phi_{x}(\\phi) = \\frac{\\Phi_{1}(\\phi)+\\Phi_{-1}(\\phi)}{2}  = \\frac{e^{i\\phi}+e^{-i\\phi}}{2} = \\cos \\phi\n",
    "\\end{align}\n",
    "$\n",
    "\n",
    "$\n",
    "\\begin{align}\n",
    "\\quad \\Phi_{y}(\\phi) = \\frac{\\Phi_{1}(\\phi)-\\Phi_{-1}(\\phi)}{2i}  = \\frac{e^{i\\phi}-e^{-i\\phi}}{2i} = \\sin \\phi \n",
    "\\end{align}\n",
    "$\n",
    "\n",
    "For the case of $l=2$ and $m = -2,\\,-1, \\, 0, \\, 1, \\, 2$ (other possible combinations also exist)\n",
    "\n",
    "$\n",
    "\\begin{align}\n",
    "\\quad \\Phi_{z^2}(\\phi) = \\Phi_{0}(\\phi) = e^{0i\\phi} = 1\n",
    "\\end{align}\n",
    "$\n",
    "\n",
    "$\n",
    "\\begin{align}\n",
    "\\quad \\Phi_{xz}(\\phi) = \\frac{\\Phi_{1}(\\phi)+\\Phi_{-1}(\\phi)}{2}  = \\frac{e^{i\\phi}+e^{-i\\phi}}{2} = \\cos \\phi\n",
    "\\end{align}\n",
    "$\n",
    "\n",
    "$\n",
    "\\begin{align}\n",
    "\\quad \\Phi_{yz}(\\phi) = \\frac{\\Phi_{1}(\\phi)-\\Phi_{-1}(\\phi)}{2i}  = \\frac{e^{i\\phi}-e^{-i\\phi}}{2i} = \\sin \\phi\n",
    "\\end{align}\n",
    "$\n",
    "\n",
    "$\n",
    "\\begin{align}\n",
    "\\quad \\Phi_{x^{2}-y^{2}}(\\phi) = \\frac{\\Phi_{2}(\\phi)+\\Phi_{-2}(\\phi)}{2}  = \\frac{e^{2i\\phi}+e^{-2i\\phi}}{2} = \\cos 2\\phi\n",
    "\\end{align}\n",
    "$\n",
    "\n",
    "$\n",
    "\\begin{align}\n",
    "\\quad \\Phi_{xy}(\\phi) = \\frac{\\Phi_{2}(\\phi)-\\Phi_{-2}(\\phi)}{2i}  = \\frac{e^{2i\\phi}-e^{-2i\\phi}}{2i} = \\sin 2\\phi\n",
    "\\end{align}\n",
    "$"
   ]
  },
  {
   "cell_type": "markdown",
   "id": "b7ab0d40-d28f-47d4-8823-c211008db2f6",
   "metadata": {},
   "source": [
    "## C. What to Expect From the Hydrogen Molecular Ion"
   ]
  },
  {
   "cell_type": "markdown",
   "id": "5dfefecc-fd36-489a-b790-6d6ee2258630",
   "metadata": {},
   "source": [
    "### Challenges of solving the hydrogen molecular ion\n",
    "\n",
    "The hydrogen molecular ion (HMI) consists of one electron and two protons (with an equilibrium internuclear distance of approximately $2a_0$), instead of one electron and proton of the hydrogen atom. Although the HMI is technically a three-body problem (which cannot be solved exactly), the Born-Oppenheimer approximation allows the quantum system to be solvable.\n",
    "\n",
    "Even with the Born-Oppenheimer approximation, obtaining the exact analytical solution is incredibly demanding in mathematical prowess and, more importantly, patience. However, through differential equation solvers such as the one included in SciPy, we can obtain the nearly-exact solution to HMI. \n",
    "\n",
    "### Why solve the hydrogen molecular ion\n",
    "\n",
    "During the process of manipulating the time-independent Schrodinger equation, numerically solving the required parameters, and examining the nearly-exact solution, a deeper insight into chemical bonding can be formed.\n",
    "\n",
    "As the HMI consists of one electron and two protons, this quantum system can also be thought of as the problem below.\n",
    "\n",
    "> Imagine a stable Helium-2 ion $^{2}\\text{He}^{+}$ with one electron. Initially, the wavefunction of the electron is one of the typical hydrogen-like atomic orbitals. \n",
    ">\n",
    ">As you forcefully tear the two protons of the nucleus apart, the electron wavefunction slowly distorts to reflect the changing Hamiltonian. When the two protons are separated by a distance of $2a_0$, the electron wave function is that of the familiar HMI treated in physical/quantum chemistry textbooks. \n",
    ">\n",
    ">At last, as the two protons continue to be separated, this system now closely resembles that of the infinitely separated proton and neutral hydrogen atom (again, think of hydrogen atomic orbitals).\n",
    "\n",
    "With the perspective offered above, it is clear that the hydrogen atom and HMI are deeply related to each other. This relationship will be investigated in the following notebooks as we uncover the HMI.\n",
    "\n",
    "Finally, the benefits of other methods, such as LCAO-MO, will be very apparent as the HMI is solved with the aforementioned, computationaly intensive method."
   ]
  },
  {
   "cell_type": "markdown",
   "id": "0da3dd2e-458a-4c5d-9d65-ee10957fbb38",
   "metadata": {},
   "source": [
    "## Footnotes\n",
    "\n",
    "<span id=\"fn1\">1. Grivet uses atomic units, with the unit of energy being the Rydberg (= 0.5 Hartrees). This is unlike other literature and most textbooks, where the unit of energy is the Hartree. This notebook uses the latter convention.</span>\n",
    "\n",
    "<span id=\"fn2\">2. For such physical chemistry textbook, a recommendation of mine is *Physical Chemistry: A Molecular Approach* by McQuarrie and Simon.</span>"
   ]
  }
 ],
 "metadata": {
  "kernelspec": {
   "display_name": "Python 3 (ipykernel)",
   "language": "python",
   "name": "python3"
  },
  "language_info": {
   "codemirror_mode": {
    "name": "ipython",
    "version": 3
   },
   "file_extension": ".py",
   "mimetype": "text/x-python",
   "name": "python",
   "nbconvert_exporter": "python",
   "pygments_lexer": "ipython3",
   "version": "3.9.5"
  }
 },
 "nbformat": 4,
 "nbformat_minor": 5
}
