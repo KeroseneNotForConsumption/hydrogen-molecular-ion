{
 "cells": [
  {
   "cell_type": "markdown",
   "id": "a2ec5fc9-11ef-4bfd-8cb4-9ea3b4136f3d",
   "metadata": {},
   "source": [
    "# 3. Solving Differential Equations with the Shooting Method\n",
    "## A. The Angular Function"
   ]
  },
  {
   "cell_type": "markdown",
   "id": "96cca3b8-36f5-4b53-9a12-fe3642d24b7c",
   "metadata": {},
   "source": [
    "### Where We Left Off\n",
    "\n",
    "We were left with the following equation to solve.\n",
    "\n",
    "$$\\frac{d }{d \\eta}\\left [ \\left ( 1 - \\eta^2 \\right ) \\frac{d S}{d \\eta} \\right ] + \\left [ \\Lambda -\\frac{m^2}{1- \\eta^2} -c^2\\eta^2 \\right ]S = 0$$\n",
    "\n",
    "For reasons too unnecessary to explain (see Grivet for full explanation), the function $S(\\eta)$ can be expressed with another function $f(\\eta)$ in the following way. As we will see, it is $f(\\eta)$ that will be solved numerically, and then and only then $S(\\eta)$ can be revealed."
   ]
  }
 ],
 "metadata": {
  "kernelspec": {
   "display_name": "Python 3 (ipykernel)",
   "language": "python",
   "name": "python3"
  },
  "language_info": {
   "codemirror_mode": {
    "name": "ipython",
    "version": 3
   },
   "file_extension": ".py",
   "mimetype": "text/x-python",
   "name": "python",
   "nbconvert_exporter": "python",
   "pygments_lexer": "ipython3",
   "version": "3.9.5"
  }
 },
 "nbformat": 4,
 "nbformat_minor": 5
}
