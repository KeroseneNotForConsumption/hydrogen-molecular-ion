{
 "cells": [
  {
   "cell_type": "markdown",
   "id": "81468d49-211a-4f29-8157-bc9d0f6dbff6",
   "metadata": {},
   "source": [
    "# 3. Solving Differential Equations with the Shooting Method\n",
    "## B. The Radial Function"
   ]
  }
 ],
 "metadata": {
  "kernelspec": {
   "display_name": "Python 3 (ipykernel)",
   "language": "python",
   "name": "python3"
  },
  "language_info": {
   "codemirror_mode": {
    "name": "ipython",
    "version": 3
   },
   "file_extension": ".py",
   "mimetype": "text/x-python",
   "name": "python",
   "nbconvert_exporter": "python",
   "pygments_lexer": "ipython3",
   "version": "3.9.5"
  }
 },
 "nbformat": 4,
 "nbformat_minor": 5
}
